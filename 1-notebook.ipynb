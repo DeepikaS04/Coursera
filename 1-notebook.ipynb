{
 "cells": [
  {
   "cell_type": "markdown",
   "id": "c304b70b",
   "metadata": {},
   "source": [
    "Title : Tools For Datascience - Peer Graded Assessment\n"
   ]
  },
  {
   "cell_type": "markdown",
   "id": "c1083280",
   "metadata": {},
   "source": [
    "Introduction\n",
    "There a wide range of tools that can be used for data science and some of them have been discussed in this module of the Course. The module has covered the basics of Language R, it has also given an insight about Github."
   ]
  },
  {
   "cell_type": "markdown",
   "id": "a1780d4b",
   "metadata": {},
   "source": [
    "Some data science languages are :\n",
    "- R\n",
    "- Python\n",
    "- Julia\n",
    "- Java\n",
    "- C++\n",
    "- Scala\n",
    "- Matlab\n",
    "- Javascript"
   ]
  },
  {
   "cell_type": "markdown",
   "id": "80b8443d",
   "metadata": {},
   "source": [
    "Data Science Libraries are :\n",
    "1. Matplotlib\n",
    "2. Scikit-learn\n",
    "3. Ggplot2\n",
    "4. Numpy\n",
    "5. Plotly\n",
    "6. Tensorflow"
   ]
  },
  {
   "cell_type": "markdown",
   "id": "04aebaf9",
   "metadata": {},
   "source": [
    "Tools in Data Science: \n",
    "\n",
    "|S.No |Tool         | \n",
    "|-----|:-----------:|\n",
    "|1.   |ApacheSpark  |\n",
    "|2.   |Apache Hadoop|\n",
    "|3.   |SAS          |\n",
    "|4.   |R Studio     |\n",
    "|5.   |Watson Studio|"
   ]
  },
  {
   "cell_type": "markdown",
   "id": "ce4410a9",
   "metadata": {},
   "source": [
    "Arithmetic Expressions :\n",
    "1. 10 (+) 20 = 30  -> Addition\n",
    "2. 20 (-) 10 = 10  -> Substraction\n",
    "3. 10 (*) 20 = 200 -> Multiplication\n",
    "4. 20 (/) 10 = 2   -> Division\n",
    "5. 20 (%) 10 = 0   -> Modulus"
   ]
  },
  {
   "cell_type": "code",
   "execution_count": 1,
   "id": "b8c34679",
   "metadata": {},
   "outputs": [
    {
     "name": "stdout",
     "output_type": "stream",
     "text": [
      "30\n"
     ]
    }
   ],
   "source": [
    "print(10+20)"
   ]
  },
  {
   "cell_type": "code",
   "execution_count": 2,
   "id": "af9e56e8",
   "metadata": {},
   "outputs": [
    {
     "name": "stdout",
     "output_type": "stream",
     "text": [
      "200\n"
     ]
    }
   ],
   "source": [
    "print(10*20)"
   ]
  },
  {
   "cell_type": "code",
   "execution_count": 4,
   "id": "d76f31fe",
   "metadata": {},
   "outputs": [
    {
     "name": "stdout",
     "output_type": "stream",
     "text": [
      "Enter time in minutes264\n",
      "Hours= 4\n",
      "Minutes= 24\n"
     ]
    }
   ],
   "source": [
    "#Minutes to Hours\n",
    "min=int(input(\"Enter time in minutes\"))\n",
    "h=min//60\n",
    "m=min%60\n",
    "print(\"Hours=\",h)\n",
    "print(\"Minutes=\",m)"
   ]
  },
  {
   "cell_type": "markdown",
   "id": "b2c69fff",
   "metadata": {},
   "source": [
    "Objectives :\n",
    "- To understand the need of tools in data science\n",
    "- To understand the types of data science tools\n",
    "- To understand the different platforms like Github"
   ]
  },
  {
   "cell_type": "markdown",
   "id": "4bb4cedb",
   "metadata": {},
   "source": [
    "Name of the Author : Deepika S. Srivastava\n"
   ]
  },
  {
   "cell_type": "code",
   "execution_count": null,
   "id": "83e57103",
   "metadata": {},
   "outputs": [],
   "source": []
  }
 ],
 "metadata": {
  "kernelspec": {
   "display_name": "Python 3 (ipykernel)",
   "language": "python",
   "name": "python3"
  },
  "language_info": {
   "codemirror_mode": {
    "name": "ipython",
    "version": 3
   },
   "file_extension": ".py",
   "mimetype": "text/x-python",
   "name": "python",
   "nbconvert_exporter": "python",
   "pygments_lexer": "ipython3",
   "version": "3.9.7"
  }
 },
 "nbformat": 4,
 "nbformat_minor": 5
}
